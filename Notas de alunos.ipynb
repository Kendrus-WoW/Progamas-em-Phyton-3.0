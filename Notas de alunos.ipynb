{
  "nbformat": 4,
  "nbformat_minor": 0,
  "metadata": {
    "colab": {
      "provenance": [],
      "authorship_tag": "ABX9TyOBzIsamHU4CLiph5SSfe50"
    },
    "kernelspec": {
      "name": "python3",
      "display_name": "Python 3"
    },
    "language_info": {
      "name": "python"
    }
  },
  "cells": [
    {
      "cell_type": "code",
      "source": [
        "nome = input(\"coloque o nome do aluno\")\n",
        "number1 = float(input(\"coloque a primeira nota aluno:\"))\n",
        "number2 = float(input(\"coloque a segunda nota aqui: \"))\n",
        "soma = number1 + number2\n",
        "print(f\"as duas notas do {nome} deram um total de {soma} \")\n",
        "if soma >= 7.0:\n",
        "    print(\" parabéns você passou ! \")\n",
        "elif soma <= 5.5:\n",
        "    print(\" infelizmente você não passou \")\n",
        "elif soma == 10.0:\n",
        "    print (\" parabéns você tirou a nota máxima ! \")"
      ],
      "metadata": {
        "id": "kGaDScf8TRMV"
      },
      "execution_count": null,
      "outputs": []
    }
  ]
}