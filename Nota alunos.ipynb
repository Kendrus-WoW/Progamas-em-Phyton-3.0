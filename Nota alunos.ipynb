{
  "nbformat": 4,
  "nbformat_minor": 0,
  "metadata": {
    "colab": {
      "provenance": [],
      "authorship_tag": "ABX9TyOBzIsamHU4CLiph5SSfe50"
    },
    "kernelspec": {
      "name": "python3",
      "display_name": "Python 3"
    },
    "language_info": {
      "name": "python"
    }
  },
  "cells": [
    {
      "cell_type": "code",
      "source": [
        "nome = input(\"coloque o nome do aluno\")\n",
        "number1 = float(input(\"coloque a primeira nota aluno:\"))\n",
        "number2 = float(input(\"coloque a segunda nota aqui: \"))\n",
        "soma = number1 + number2\n",
        "print(f\"as duas notas do {nome} deram um total de {soma} \")\n",
        "if soma >= 7.0:\n",
        "    print(\" parabéns você passou ! \")\n",
        "elif soma <= 5.5:\n",
        "    print(\" infelizmente você não passou \")\n",
        "elif soma == 10.0:\n",
        "    print (\" parabéns você tirou a nota máxima ! \")"
      ],
      "metadata": {
        "id": "kGaDScf8TRMV",
        "colab": {
          "base_uri": "https://localhost:8080/"
        },
        "outputId": "433284e9-ab58-4aba-c486-25256cf1cd95"
      },
      "execution_count": 20,
      "outputs": [
        {
          "output_type": "stream",
          "name": "stdout",
          "text": [
            "coloque o nome do alunoJoão \n",
            "coloque a primeira nota aluno:3.8\n",
            "coloque a segunda nota aqui: 5.8\n",
            "as duas notas do João  deram um total de 9.6 \n",
            " parabéns você passou ! \n"
          ]
        }
      ]
    }
  ]
}